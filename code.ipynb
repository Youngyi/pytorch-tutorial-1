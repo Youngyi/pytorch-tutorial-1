{
 "cells": [
  {
   "cell_type": "markdown",
   "metadata": {},
   "source": [
    "## Import Libraries"
   ]
  },
  {
   "cell_type": "code",
   "execution_count": null,
   "metadata": {
    "collapsed": true
   },
   "outputs": [],
   "source": [
    "from numpy import genfromtxt\n",
    "import torch\n",
    "import torch.nn as nn\n",
    "import torchvision.datasets as dsets\n",
    "import torchvision.transforms as transforms\n",
    "from torch.autograd import Variable\n",
    "import torch.utils.data as Data\n",
    "import os"
   ]
  },
  {
   "cell_type": "markdown",
   "metadata": {},
   "source": [
    "## Hyperparameters"
   ]
  },
  {
   "cell_type": "code",
   "execution_count": null,
   "metadata": {
    "collapsed": true
   },
   "outputs": [],
   "source": [
    "# Parameters and Hyper Parameters\n",
    "input_size = 57\n",
    "hidden_size1 = 64\n",
    "hidden_size2 = 64\n",
    "num_classes = 2\n",
    "num_epochs = 256\n",
    "batch_size = 128\n",
    "learning_rate = 0.001"
   ]
  },
  {
   "cell_type": "markdown",
   "metadata": {},
   "source": [
    "## Load Data from CSVs"
   ]
  },
  {
   "cell_type": "code",
   "execution_count": null,
   "metadata": {
    "collapsed": true
   },
   "outputs": [],
   "source": [
    "data = genfromtxt('traindata.csv', delimiter=',')\n",
    "labels = genfromtxt('trainlabel.csv', delimiter=',')\n",
    "\n",
    "input_data = data[:3000] # train\n",
    "test_input = data[3000:] # test\n",
    "output_data = labels[:3000] # train\n",
    "test_output = labels[3000:] # test"
   ]
  },
  {
   "cell_type": "markdown",
   "metadata": {},
   "source": [
    "## Datasets"
   ]
  },
  {
   "cell_type": "code",
   "execution_count": null,
   "metadata": {
    "collapsed": true
   },
   "outputs": [],
   "source": [
    "train_dataset = Data.TensorDataset(\n",
    "\tdata_tensor = torch.from_numpy(input_data).float(),\n",
    "\ttarget_tensor = torch.from_numpy(output_data).long())\n",
    "\n",
    "test_dataset = Data.TensorDataset(\n",
    "\tdata_tensor = torch.from_numpy(test_input).float(),\n",
    "\ttarget_tensor = torch.from_numpy(test_output).long())\n",
    "\n",
    "print(torch.from_numpy(output_data).int())"
   ]
  },
  {
   "cell_type": "markdown",
   "metadata": {},
   "source": [
    "## Dataloaders"
   ]
  },
  {
   "cell_type": "code",
   "execution_count": null,
   "metadata": {
    "collapsed": true
   },
   "outputs": [],
   "source": [
    "# Data Loader (Input Pipeline)\n",
    "train_loader = torch.utils.data.DataLoader(dataset=train_dataset,\n",
    "\t\t\t\t\t\t\t\t\t\t   batch_size=batch_size,\n",
    "\t\t\t\t\t\t\t\t\t\t   shuffle=True)\n",
    "test_loader = torch.utils.data.DataLoader(dataset=test_dataset,\n",
    "\t\t\t\t\t\t\t\t\t\t   batch_size=batch_size,\n",
    "\t\t\t\t\t\t\t\t\t\t   shuffle=False)"
   ]
  },
  {
   "cell_type": "markdown",
   "metadata": {},
   "source": [
    "## Split dataset into Train & Test"
   ]
  },
  {
   "cell_type": "code",
   "execution_count": null,
   "metadata": {
    "collapsed": true
   },
   "outputs": [],
   "source": [
    "#Make a dictionary defining training and validation sets\n",
    "dataloders = dict()\n",
    "dataloders['train'] = train_loader\n",
    "dataloders['val'] = test_loader\n",
    "\n",
    "dataset_sizes = {'train': 3000, 'val': 220}"
   ]
  },
  {
   "cell_type": "markdown",
   "metadata": {},
   "source": [
    "## Enable GPU"
   ]
  },
  {
   "cell_type": "code",
   "execution_count": null,
   "metadata": {
    "collapsed": true
   },
   "outputs": [],
   "source": [
    "use_gpu = torch.cuda.is_available()"
   ]
  },
  {
   "cell_type": "markdown",
   "metadata": {},
   "source": [
    "## Net Structure"
   ]
  },
  {
   "cell_type": "code",
   "execution_count": null,
   "metadata": {
    "collapsed": true
   },
   "outputs": [],
   "source": [
    "class Net(nn.Module):\n",
    "\tdef __init__(self, input_size, hidden_size1, hidden_size2, num_classes):\n",
    "\t\tsuper(Net, self).__init__()\n",
    "\t\tself.fc1 = nn.Sequential(\n",
    "\t\t\tnn.Linear(input_size, hidden_size1),\n",
    "\t\t\tnn.ReLU())\n",
    "\t\tself.fc2 = nn.Sequential(\n",
    "\t\t\tnn.Linear(hidden_size1, hidden_size2),\n",
    "\t\t\tnn.ReLU())\n",
    "\t\tself.fc3 = nn.Sequential(\n",
    "\t\t\tnn.Linear(hidden_size2, num_classes))\n",
    "\n",
    "\tdef forward(self, x):\n",
    "\t\tout = self.fc1(x)\n",
    "\t\tout = self.fc2(out)\n",
    "\t\tout = self.fc3(out)\n",
    "\t\treturn out"
   ]
  },
  {
   "cell_type": "markdown",
   "metadata": {},
   "source": [
    "## Training Phase"
   ]
  },
  {
   "cell_type": "code",
   "execution_count": null,
   "metadata": {
    "collapsed": true
   },
   "outputs": [],
   "source": [
    "def train_model(model, criterion, optimizer, num_epochs):\n",
    "\tf = open(\"Iterations.txt\", \"w+\")\n",
    "\tbest_model_wts = model.state_dict()\n",
    "\tbest_val_acc = 0.0\n",
    "\tbest_train_acc = 0.0\n",
    "\tfor epoch in range(num_epochs):\n",
    "\t\tprint('Epoch {}/{}'.format(epoch, num_epochs - 1))\n",
    "\t\tprint('-' * 10)\n",
    "\t\tfor phase in ['train', 'val']:\n",
    "\t\t\tif phase == 'train':\n",
    "\t\t\t\tmodel.train(True)  # Set model to training mode\n",
    "\t\t\telse:\n",
    "\t\t\t\tmodel.train(False)  # Set model to evaluate mode\n",
    "\t\t\trunning_loss = 0.0\n",
    "\t\t\trunning_corrects = 0\n",
    "\t\t\t# Iterate over data.\n",
    "\t\t\tfor data in dataloders[phase]:\n",
    "\t\t\t\t# get the inputs\n",
    "\t\t\t\tinputs, label = data\n",
    "\t\t\t\t# wrap them in Variable\n",
    "\t\t\t\tif use_gpu:\n",
    "\t\t\t\t\tinputs = Variable(inputs.cuda())\n",
    "\t\t\t\t\tlabels = Variable(label.cuda())\n",
    "\t\t\t\telse:\n",
    "\t\t\t\t\tinputs, labels = Variable(inputs), Variable(label)\n",
    "\t\t\t\t# zero the parameter gradients\n",
    "\t\t\t\toptimizer.zero_grad()\n",
    "\t\t\t\t# forward\n",
    "\t\t\t\toutputs = model(inputs)\n",
    "\t\t\t\t_, preds = torch.max(outputs.data, 1)\n",
    "\t\t\t\tloss = criterion(outputs, labels)\n",
    "\t\t\t\t# backward + optimize only if in training phase\n",
    "\t\t\t\tif phase == 'train':\n",
    "\t\t\t\t\tloss.backward()\n",
    "\t\t\t\t\toptimizer.step()\n",
    "\t\t\t\t# statistics\n",
    "\t\t\t\trunning_loss += loss.data[0]\n",
    "\t\t\t\trunning_corrects += torch.sum(preds == label)\n",
    "\t\t\tepoch_loss = running_loss / dataset_sizes[phase]\n",
    "\t\t\tepoch_acc = running_corrects / dataset_sizes[phase]\n",
    "\t\t\t#Print it out Loss and Accuracy and in the file torchvision\n",
    "\t\t\tprint('{} Loss: {:.8f} Accuracy: {:.4f}'.format(phase, epoch_loss, epoch_acc))\n",
    "\t\t\tf.write('{} Loss: {:.8f} Accuracy: {:.4f}\\n'.format(phase, epoch_loss, epoch_acc))\n",
    "\t\t\t# deep copy the model\n",
    "\t\t\tif phase == 'val' and epoch_acc > best_val_acc:\n",
    "\t\t\t\tbest_val_acc = epoch_acc\n",
    "\t\t\t\tbest_model_wts = model.state_dict()\n",
    "\t\t\tif phase == 'train' and epoch_acc > best_train_acc:\n",
    "\t\t\t\tbest_train_acc = epoch_acc\n",
    "\t\t\t\tbest_model_wts = model.state_dict()\n",
    "\tf.close()\n",
    "\tprint('Best val Acc: {:4f}'.format(best_val_acc))\n",
    "\tmodel.load_state_dict(best_model_wts)\n",
    "\treturn model, best_train_acc, best_val_acc"
   ]
  },
  {
   "cell_type": "markdown",
   "metadata": {},
   "source": [
    "## Create the Net"
   ]
  },
  {
   "cell_type": "code",
   "execution_count": null,
   "metadata": {
    "collapsed": true
   },
   "outputs": [],
   "source": [
    "net = Net(input_size, hidden_size1, hidden_size2, num_classes)"
   ]
  },
  {
   "cell_type": "markdown",
   "metadata": {},
   "source": [
    "## Set Loss function and Optimizer"
   ]
  },
  {
   "cell_type": "code",
   "execution_count": null,
   "metadata": {
    "collapsed": true
   },
   "outputs": [],
   "source": [
    "# Loss and Optimizer\n",
    "criterion = nn.CrossEntropyLoss()\n",
    "optimizer = torch.optim.Adam(net.parameters(), lr=learning_rate)"
   ]
  },
  {
   "cell_type": "markdown",
   "metadata": {},
   "source": [
    "## Train the model"
   ]
  },
  {
   "cell_type": "code",
   "execution_count": null,
   "metadata": {
    "collapsed": true
   },
   "outputs": [],
   "source": [
    "if use_gpu:\n",
    "\tmodel_ft, train_acc, test_acc = train_model(net.cuda(), criterion, optimizer, num_epochs)\n",
    "else:\n",
    "\tmodel_ft, train_acc, test_acc = train_model(net, criterion, optimizer, num_epochs)"
   ]
  },
  {
   "cell_type": "markdown",
   "metadata": {},
   "source": [
    "## Save the model"
   ]
  },
  {
   "cell_type": "code",
   "execution_count": null,
   "metadata": {
    "collapsed": true
   },
   "outputs": [],
   "source": [
    "torch.save(model_ft.state_dict(), 'save.pkl')"
   ]
  }
 ],
 "metadata": {
  "kernelspec": {
   "display_name": "Python 3",
   "language": "python",
   "name": "python3"
  },
  "language_info": {
   "codemirror_mode": {
    "name": "ipython",
    "version": 3
   },
   "file_extension": ".py",
   "mimetype": "text/x-python",
   "name": "python",
   "nbconvert_exporter": "python",
   "pygments_lexer": "ipython3",
   "version": "3.6.3"
  }
 },
 "nbformat": 4,
 "nbformat_minor": 2
}
